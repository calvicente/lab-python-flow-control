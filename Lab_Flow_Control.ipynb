{
  "nbformat": 4,
  "nbformat_minor": 0,
  "metadata": {
    "colab": {
      "provenance": [],
      "authorship_tag": "ABX9TyNVQEaPo2ElNzBNMV6f1qdA",
      "include_colab_link": true
    },
    "kernelspec": {
      "name": "python3",
      "display_name": "Python 3"
    },
    "language_info": {
      "name": "python"
    }
  },
  "cells": [
    {
      "cell_type": "markdown",
      "metadata": {
        "id": "view-in-github",
        "colab_type": "text"
      },
      "source": [
        "<a href=\"https://colab.research.google.com/github/calvicente/lab-python-flow-control/blob/main/Lab_Flow_Control.ipynb\" target=\"_parent\"><img src=\"https://colab.research.google.com/assets/colab-badge.svg\" alt=\"Open In Colab\"/></a>"
      ]
    },
    {
      "cell_type": "code",
      "execution_count": 1,
      "metadata": {
        "id": "wLyRfvl75-ag"
      },
      "outputs": [],
      "source": [
        "products=['t-shirt','mug','hat','book','keychain']"
      ]
    },
    {
      "cell_type": "code",
      "source": [
        "inventory = {}"
      ],
      "metadata": {
        "id": "o49OyYW86PgA"
      },
      "execution_count": 2,
      "outputs": []
    },
    {
      "cell_type": "code",
      "source": [
        "#add values to inventory\n",
        "for i in products:\n",
        "  quantity = int(input(f'Please enter the quantity of {i}: '))\n",
        "  inventory[i]=quantity"
      ],
      "metadata": {
        "colab": {
          "base_uri": "https://localhost:8080/"
        },
        "id": "mzKqmxBK6STm",
        "outputId": "560b7710-87fe-4d34-cab9-15ff1ab0656c"
      },
      "execution_count": 3,
      "outputs": [
        {
          "name": "stdout",
          "output_type": "stream",
          "text": [
            "Please enter the quantity of t-shirt: 100\n",
            "Please enter the quantity of mug: 200\n",
            "Please enter the quantity of hat: 300\n",
            "Please enter the quantity of book: 400\n",
            "Please enter the quantity of keychain: 500\n"
          ]
        }
      ]
    },
    {
      "cell_type": "code",
      "source": [
        "inventory"
      ],
      "metadata": {
        "colab": {
          "base_uri": "https://localhost:8080/"
        },
        "id": "lnmsfN5V7v-3",
        "outputId": "7eba549e-9060-4a33-d99e-53b85f6ae365"
      },
      "execution_count": 4,
      "outputs": [
        {
          "output_type": "execute_result",
          "data": {
            "text/plain": [
              "{'t-shirt': 100, 'mug': 200, 'hat': 300, 'book': 400, 'keychain': 500}"
            ]
          },
          "metadata": {},
          "execution_count": 4
        }
      ]
    },
    {
      "cell_type": "code",
      "source": [
        "#create customer order\n",
        "customer_orders=set()\n",
        "question='y'\n",
        "while question!='n':\n",
        "  item=input('Please enter product name ')\n",
        "  if item=='t-shirt' or item=='mug' or item=='hat' or item=='book' or item=='keychain':\n",
        "    customer_orders.add(item)\n",
        "    question=input('Would you like to add another product? [y/n]')\n",
        "    while question!='y' and question!='n':\n",
        "      question=input('Invalid answer, please type y or n')\n",
        "  else:\n",
        "    print('Invalid item')"
      ],
      "metadata": {
        "id": "vWyZRNcE82Ep",
        "colab": {
          "base_uri": "https://localhost:8080/"
        },
        "outputId": "4ff40652-d5a1-45b3-d30c-eba143d046b9"
      },
      "execution_count": 24,
      "outputs": [
        {
          "name": "stdout",
          "output_type": "stream",
          "text": [
            "Please enter product name mug\n",
            "Would you like to add another product? [y/n]y\n",
            "Please enter product name book\n",
            "Would you like to add another product? [y/n]n\n"
          ]
        }
      ]
    },
    {
      "cell_type": "code",
      "source": [
        "customer_orders"
      ],
      "metadata": {
        "colab": {
          "base_uri": "https://localhost:8080/"
        },
        "id": "T_Ich_9xk2dV",
        "outputId": "44860eb5-594b-4145-aef3-88c173e0120b"
      },
      "execution_count": 25,
      "outputs": [
        {
          "output_type": "execute_result",
          "data": {
            "text/plain": [
              "{'book', 'mug'}"
            ]
          },
          "metadata": {},
          "execution_count": 25
        }
      ]
    },
    {
      "cell_type": "code",
      "source": [
        "#calculate total of items\n",
        "total_items=0\n",
        "type(total_items)\n",
        "for j in inventory.values():\n",
        "  total_items+=j\n",
        "total_items"
      ],
      "metadata": {
        "colab": {
          "base_uri": "https://localhost:8080/"
        },
        "id": "iwT0UX4Rrb__",
        "outputId": "87103525-e4f2-4923-cb7f-b2792e7d2d31"
      },
      "execution_count": 26,
      "outputs": [
        {
          "output_type": "execute_result",
          "data": {
            "text/plain": [
              "1497"
            ]
          },
          "metadata": {},
          "execution_count": 26
        }
      ]
    },
    {
      "cell_type": "code",
      "source": [
        "order_status=(len(customer_orders),(len(customer_orders)/total_items)*100)"
      ],
      "metadata": {
        "id": "pXeHnCmAlDXI"
      },
      "execution_count": 27,
      "outputs": []
    },
    {
      "cell_type": "code",
      "source": [
        "#print order statistics\n",
        "print(f'Order Statistics: \\nTotal Products Ordered {order_status[0]}\\nPercentage of Products Ordered: {round(order_status[1],1)}%')"
      ],
      "metadata": {
        "colab": {
          "base_uri": "https://localhost:8080/"
        },
        "id": "xosSoGKCnV1h",
        "outputId": "b4d7b9d1-1796-4d21-f2e6-e0bba11549c7"
      },
      "execution_count": 31,
      "outputs": [
        {
          "output_type": "stream",
          "name": "stdout",
          "text": [
            "Order Statistics: \n",
            "Total Products Ordered 2\n",
            "Percentage of Products Ordered: 0.1%\n"
          ]
        }
      ]
    },
    {
      "cell_type": "code",
      "source": [
        "#update inventory\n",
        "for item_order in customer_orders:\n",
        "  for key,value in inventory.items():\n",
        "    if item_order==key:\n",
        "      inventory[key]-=1"
      ],
      "metadata": {
        "id": "hrTCF0dYni8I"
      },
      "execution_count": 29,
      "outputs": []
    },
    {
      "cell_type": "code",
      "source": [
        "#print updated inventory\n",
        "print('Updated Inventory:')\n",
        "for key,value in inventory.items():\n",
        "  print(f'{key}: {value}')"
      ],
      "metadata": {
        "colab": {
          "base_uri": "https://localhost:8080/"
        },
        "id": "ThixQTYmv7SH",
        "outputId": "db6aef8c-2666-4b6f-f24e-2c4462d2d7f3"
      },
      "execution_count": 30,
      "outputs": [
        {
          "output_type": "stream",
          "name": "stdout",
          "text": [
            "Updated Inventory:\n",
            "t-shirt: 100\n",
            "mug: 198\n",
            "hat: 300\n",
            "book: 398\n",
            "keychain: 499\n"
          ]
        }
      ]
    },
    {
      "cell_type": "code",
      "source": [],
      "metadata": {
        "id": "n4NiG6wHxNzk"
      },
      "execution_count": null,
      "outputs": []
    }
  ]
}
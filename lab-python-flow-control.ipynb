{
  "cells": [
    {
      "cell_type": "code",
      "execution_count": 1,
      "metadata": {
        "id": "wLyRfvl75-ag"
      },
      "outputs": [],
      "source": [
        "products=['t-shirt','mug','hat','book','keychain']"
      ]
    },
    {
      "cell_type": "code",
      "execution_count": 2,
      "metadata": {
        "id": "o49OyYW86PgA"
      },
      "outputs": [],
      "source": [
        "inventory = {}"
      ]
    },
    {
      "cell_type": "code",
      "execution_count": 3,
      "metadata": {
        "colab": {
          "base_uri": "https://localhost:8080/"
        },
        "id": "mzKqmxBK6STm",
        "outputId": "560b7710-87fe-4d34-cab9-15ff1ab0656c"
      },
      "outputs": [
        {
          "name": "stdout",
          "output_type": "stream",
          "text": [
            "Please enter the quantity of t-shirt: 100\n",
            "Please enter the quantity of mug: 200\n",
            "Please enter the quantity of hat: 300\n",
            "Please enter the quantity of book: 400\n",
            "Please enter the quantity of keychain: 500\n"
          ]
        }
      ],
      "source": [
        "#add values to inventory\n",
        "for i in products:\n",
        "  quantity = int(input(f'Please enter the quantity of {i}: '))\n",
        "  inventory[i]=quantity"
      ]
    },
    {
      "cell_type": "code",
      "execution_count": 4,
      "metadata": {
        "colab": {
          "base_uri": "https://localhost:8080/"
        },
        "id": "lnmsfN5V7v-3",
        "outputId": "7eba549e-9060-4a33-d99e-53b85f6ae365"
      },
      "outputs": [
        {
          "data": {
            "text/plain": [
              "{'t-shirt': 100, 'mug': 200, 'hat': 300, 'book': 400, 'keychain': 500}"
            ]
          },
          "execution_count": 4,
          "metadata": {},
          "output_type": "execute_result"
        }
      ],
      "source": [
        "inventory"
      ]
    },
    {
      "cell_type": "code",
      "execution_count": 24,
      "metadata": {
        "colab": {
          "base_uri": "https://localhost:8080/"
        },
        "id": "vWyZRNcE82Ep",
        "outputId": "4ff40652-d5a1-45b3-d30c-eba143d046b9"
      },
      "outputs": [
        {
          "name": "stdout",
          "output_type": "stream",
          "text": [
            "Please enter product name mug\n",
            "Would you like to add another product? [y/n]y\n",
            "Please enter product name book\n",
            "Would you like to add another product? [y/n]n\n"
          ]
        }
      ],
      "source": [
        "#create customer order\n",
        "customer_orders=set()\n",
        "question='y'\n",
        "while question!='n':\n",
        "  item=input('Please enter product name ')\n",
        "  if item=='t-shirt' or item=='mug' or item=='hat' or item=='book' or item=='keychain':\n",
        "    customer_orders.add(item)\n",
        "    question=input('Would you like to add another product? [y/n]')\n",
        "    while question!='y' and question!='n':\n",
        "      question=input('Invalid answer, please type y or n')\n",
        "  else:\n",
        "    print('Invalid item')"
      ]
    },
    {
      "cell_type": "code",
      "execution_count": 25,
      "metadata": {
        "colab": {
          "base_uri": "https://localhost:8080/"
        },
        "id": "T_Ich_9xk2dV",
        "outputId": "44860eb5-594b-4145-aef3-88c173e0120b"
      },
      "outputs": [
        {
          "data": {
            "text/plain": [
              "{'book', 'mug'}"
            ]
          },
          "execution_count": 25,
          "metadata": {},
          "output_type": "execute_result"
        }
      ],
      "source": [
        "customer_orders"
      ]
    },
    {
      "cell_type": "code",
      "execution_count": 26,
      "metadata": {
        "colab": {
          "base_uri": "https://localhost:8080/"
        },
        "id": "iwT0UX4Rrb__",
        "outputId": "87103525-e4f2-4923-cb7f-b2792e7d2d31"
      },
      "outputs": [
        {
          "data": {
            "text/plain": [
              "1497"
            ]
          },
          "execution_count": 26,
          "metadata": {},
          "output_type": "execute_result"
        }
      ],
      "source": [
        "#calculate total of items\n",
        "total_items=0\n",
        "type(total_items)\n",
        "for j in inventory.values():\n",
        "  total_items+=j\n",
        "total_items"
      ]
    },
    {
      "cell_type": "code",
      "execution_count": 27,
      "metadata": {
        "id": "pXeHnCmAlDXI"
      },
      "outputs": [],
      "source": [
        "order_status=(len(customer_orders),(len(customer_orders)/total_items)*100)"
      ]
    },
    {
      "cell_type": "code",
      "execution_count": 31,
      "metadata": {
        "colab": {
          "base_uri": "https://localhost:8080/"
        },
        "id": "xosSoGKCnV1h",
        "outputId": "b4d7b9d1-1796-4d21-f2e6-e0bba11549c7"
      },
      "outputs": [
        {
          "name": "stdout",
          "output_type": "stream",
          "text": [
            "Order Statistics: \n",
            "Total Products Ordered 2\n",
            "Percentage of Products Ordered: 0.1%\n"
          ]
        }
      ],
      "source": [
        "#print order statistics\n",
        "print(f'Order Statistics: \\nTotal Products Ordered {order_status[0]}\\nPercentage of Products Ordered: {round(order_status[1],1)}%')"
      ]
    },
    {
      "cell_type": "code",
      "execution_count": 29,
      "metadata": {
        "id": "hrTCF0dYni8I"
      },
      "outputs": [],
      "source": [
        "#update inventory\n",
        "for item_order in customer_orders:\n",
        "  for key,value in inventory.items():\n",
        "    if item_order==key:\n",
        "      inventory[key]-=1"
      ]
    },
    {
      "cell_type": "code",
      "execution_count": 30,
      "metadata": {
        "colab": {
          "base_uri": "https://localhost:8080/"
        },
        "id": "ThixQTYmv7SH",
        "outputId": "db6aef8c-2666-4b6f-f24e-2c4462d2d7f3"
      },
      "outputs": [
        {
          "name": "stdout",
          "output_type": "stream",
          "text": [
            "Updated Inventory:\n",
            "t-shirt: 100\n",
            "mug: 198\n",
            "hat: 300\n",
            "book: 398\n",
            "keychain: 499\n"
          ]
        }
      ],
      "source": [
        "#print updated inventory\n",
        "print('Updated Inventory:')\n",
        "for key,value in inventory.items():\n",
        "  print(f'{key}: {value}')"
      ]
    },
    {
      "cell_type": "code",
      "execution_count": null,
      "metadata": {
        "id": "n4NiG6wHxNzk"
      },
      "outputs": [],
      "source": []
    }
  ],
  "metadata": {
    "colab": {
      "provenance": []
    },
    "kernelspec": {
      "display_name": "Python 3",
      "name": "python3"
    },
    "language_info": {
      "name": "python"
    }
  },
  "nbformat": 4,
  "nbformat_minor": 0
}
